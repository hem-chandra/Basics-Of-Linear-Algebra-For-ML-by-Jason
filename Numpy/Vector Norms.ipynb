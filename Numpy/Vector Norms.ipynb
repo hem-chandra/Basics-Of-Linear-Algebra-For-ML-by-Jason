{
 "cells": [
  {
   "cell_type": "markdown",
   "metadata": {},
   "source": [
    "### The L1 norm that is calculated as the sum of the absolute values of the vector.\n",
    "### The L2 norm that is calculated as the square root of the sum of the squared vector values.\n",
    "### The max norm that is calculated as the maximum vector values.\n",
    "\n"
   ]
  },
  {
   "cell_type": "markdown",
   "metadata": {},
   "source": [
    "The length of the vector is referred to as the vector norm or\n",
    "the vector’s magnitude. The length of a vector is a nonnegative number that describes the extent of the\n",
    "vector in space, and is sometimes referred to as the vector’s magnitude or the norm."
   ]
  },
  {
   "cell_type": "code",
   "execution_count": null,
   "metadata": {},
   "outputs": [],
   "source": []
  },
  {
   "cell_type": "markdown",
   "metadata": {},
   "source": [
    "### Vector L1 Norm"
   ]
  },
  {
   "cell_type": "markdown",
   "metadata": {},
   "source": [
    " ### The L1 norm is also called taxicab norm or the Manhattan norm."
   ]
  },
  {
   "cell_type": "markdown",
   "metadata": {},
   "source": [
    "The L1 norm is calculated as the sum of the absolute vector values, where the absolute value\n",
    "of a scalar uses the notation |a1|.  In effect, the norm is a calculation of the Manhattan distance\n",
    "from the origin of the vector space."
   ]
  },
  {
   "cell_type": "markdown",
   "metadata": {},
   "source": [
    "||v||1 = |a1| + |a2| + |a3|"
   ]
  },
  {
   "cell_type": "markdown",
   "metadata": {},
   "source": [
    "The L1 norm is often used when fitting machine learning algorithms as a regularization\n",
    "method, e.g. a method to keep the coefficients of the model small, and in turn, the model less\n",
    "complex."
   ]
  },
  {
   "cell_type": "code",
   "execution_count": 10,
   "metadata": {},
   "outputs": [],
   "source": [
    "from numpy import array\n",
    "from numpy.linalg import norm"
   ]
  },
  {
   "cell_type": "code",
   "execution_count": 11,
   "metadata": {},
   "outputs": [
    {
     "data": {
      "text/plain": [
       "6.0"
      ]
     },
     "execution_count": 11,
     "metadata": {},
     "output_type": "execute_result"
    }
   ],
   "source": [
    "a=array([1,2,3])\n",
    "b=norm(a,1)\n",
    "b"
   ]
  },
  {
   "cell_type": "code",
   "execution_count": 12,
   "metadata": {},
   "outputs": [
    {
     "data": {
      "text/plain": [
       "6.0"
      ]
     },
     "execution_count": 12,
     "metadata": {},
     "output_type": "execute_result"
    }
   ],
   "source": [
    "a=array([-1,-2,3])\n",
    "b=norm(a,1)\n",
    "b"
   ]
  },
  {
   "cell_type": "code",
   "execution_count": null,
   "metadata": {},
   "outputs": [],
   "source": []
  },
  {
   "cell_type": "markdown",
   "metadata": {},
   "source": [
    "### Vector L2 Norm"
   ]
  },
  {
   "cell_type": "markdown",
   "metadata": {},
   "source": [
    "The L2 norm calculates the distance of the vector coordinate from the origin of the vector\n",
    "space. As such, it is also known as the Euclidean norm as it is calculated as the Euclidean\n",
    "distance from the origin. The result is a positive distance value. The L2 norm is calculated as\n",
    "the square root of the sum of the squared vector values."
   ]
  },
  {
   "cell_type": "markdown",
   "metadata": {},
   "source": [
    "The L2 norm is calculated as\n",
    "the square root of the sum of the squared vector values."
   ]
  },
  {
   "cell_type": "code",
   "execution_count": 14,
   "metadata": {},
   "outputs": [
    {
     "data": {
      "text/plain": [
       "3.7416573867739413"
      ]
     },
     "execution_count": 14,
     "metadata": {},
     "output_type": "execute_result"
    }
   ],
   "source": [
    "a=array([1,2,3])\n",
    "b=norm(a)\n",
    "b"
   ]
  },
  {
   "cell_type": "markdown",
   "metadata": {},
   "source": [
    "Like the L1 norm, the L2 norm is often used when fitting machine learning algorithms as a\n",
    "regularization method, e.g. a method to keep the coefficients of the model small and, in turn,\n",
    "the model less complex. By far, the L2 norm is more commonly used than other vector norms\n",
    "in machine learning."
   ]
  },
  {
   "cell_type": "code",
   "execution_count": null,
   "metadata": {},
   "outputs": [],
   "source": []
  },
  {
   "cell_type": "markdown",
   "metadata": {},
   "source": [
    "### Vector Max Norm"
   ]
  },
  {
   "cell_type": "markdown",
   "metadata": {},
   "source": [
    "The length of a vector can be calculated using the maximum norm, also called max norm. Max\n",
    "norm of a vector is referred to as Linf where inf is a superscript and can be represented with the infinity symbol. The notation for max norm is ||v||inf, where inf is a subscript"
   ]
  },
  {
   "cell_type": "markdown",
   "metadata": {},
   "source": [
    "The max norm is calculated as returning the maximum value of the vector, hence the name.\n",
    "||v|| inf = max a1; a2; a3"
   ]
  },
  {
   "cell_type": "code",
   "execution_count": 20,
   "metadata": {},
   "outputs": [
    {
     "data": {
      "text/plain": [
       "3.0"
      ]
     },
     "execution_count": 20,
     "metadata": {},
     "output_type": "execute_result"
    }
   ],
   "source": [
    "from math import inf\n",
    "a=array([1,2,3])\n",
    "norm(a,inf)"
   ]
  },
  {
   "cell_type": "markdown",
   "metadata": {},
   "source": [
    "Max norm is also used as a regularization in machine learning, such as on neural network\n",
    "weights, called max norm regularization."
   ]
  },
  {
   "cell_type": "code",
   "execution_count": null,
   "metadata": {},
   "outputs": [],
   "source": []
  },
  {
   "cell_type": "markdown",
   "metadata": {},
   "source": [
    "### The L1 norm that is calculated as the sum of the absolute values of the vector.\n",
    "### The L2 norm that is calculated as the square root of the sum of the squared vector values.\n",
    "### The max norm that is calculated as the maximum vector values."
   ]
  },
  {
   "cell_type": "code",
   "execution_count": null,
   "metadata": {},
   "outputs": [],
   "source": []
  }
 ],
 "metadata": {
  "kernelspec": {
   "display_name": "Python 3",
   "language": "python",
   "name": "python3"
  },
  "language_info": {
   "codemirror_mode": {
    "name": "ipython",
    "version": 3
   },
   "file_extension": ".py",
   "mimetype": "text/x-python",
   "name": "python",
   "nbconvert_exporter": "python",
   "pygments_lexer": "ipython3",
   "version": "3.7.3"
  }
 },
 "nbformat": 4,
 "nbformat_minor": 2
}
